{
 "cells": [
  {
   "cell_type": "code",
   "execution_count": 1,
   "metadata": {},
   "outputs": [],
   "source": [
    "import numpy as np"
   ]
  },
  {
   "cell_type": "code",
   "execution_count": 3,
   "metadata": {},
   "outputs": [
    {
     "data": {
      "text/plain": [
       "array([[1, 2, 3],\n",
       "       [4, 5, 6],\n",
       "       [7, 8, 9]])"
      ]
     },
     "execution_count": 3,
     "metadata": {},
     "output_type": "execute_result"
    }
   ],
   "source": [
    "# np arr\n",
    "arr  = np.array([[1,2,3],[4,5,6], [7,8,9]])\n",
    "arr"
   ]
  },
  {
   "cell_type": "code",
   "execution_count": 4,
   "metadata": {},
   "outputs": [
    {
     "name": "stdout",
     "output_type": "stream",
     "text": [
      "9 (3, 3) 2 int32\n"
     ]
    }
   ],
   "source": [
    "#dtype,ndim,shape,reshape,size\n",
    "print(arr.size, arr.shape,arr.ndim,arr.dtype)"
   ]
  },
  {
   "cell_type": "code",
   "execution_count": 9,
   "metadata": {},
   "outputs": [
    {
     "name": "stdout",
     "output_type": "stream",
     "text": [
      "[ 0  1  2  3  4  5  6  7  8  9 10 11 12 13 14 15 16 17 18 19 20 21 22 23\n",
      " 24 25 26 27 28 29 30 31 32 33 34 35 36 37 38 39] [ 1  6 11 16 21 26 31 36 41 46 51 56 61 66 71 76 81 86 91 96]\n"
     ]
    }
   ],
   "source": [
    "#np arrange\n",
    "arr1 = np.arange(40)\n",
    "arr2 = np.arange(1,100,5)\n",
    "print(arr1,arr2)"
   ]
  },
  {
   "cell_type": "code",
   "execution_count": 16,
   "metadata": {},
   "outputs": [
    {
     "data": {
      "text/plain": [
       "array([  1. ,  20.8,  40.6,  60.4,  80.2, 100. ])"
      ]
     },
     "execution_count": 16,
     "metadata": {},
     "output_type": "execute_result"
    }
   ],
   "source": [
    "\"\"\"linspace it is same as arange\"\"\"\n",
    "arr3 = np.linspace(1,100, 6)\n",
    "arr3"
   ]
  },
  {
   "cell_type": "code",
   "execution_count": 14,
   "metadata": {},
   "outputs": [
    {
     "name": "stdout",
     "output_type": "stream",
     "text": [
      "[0. 0. 0. 0. 0. 0. 0. 0. 0. 0.] >>> [1. 1. 1. 1. 1. 1. 1. 1. 1. 1. 1.] >>> [[1. 1. 1. 1.]\n",
      " [1. 1. 1. 1.]\n",
      " [1. 1. 1. 1.]\n",
      " [1. 1. 1. 1.]]\n"
     ]
    }
   ],
   "source": [
    "# np zeros and ones\n",
    "arrz = np.zeros(10, dtype = np.float32)\n",
    "arro = np.ones(11, dtype= np.float16)\n",
    "arro1 = np.ones((4,4), dtype=np.float64)\n",
    "print(arrz, \">>>\", arro, \">>>\", arro1)"
   ]
  },
  {
   "cell_type": "code",
   "execution_count": 15,
   "metadata": {},
   "outputs": [
    {
     "data": {
      "text/plain": [
       "array([[1., 0., 0., 0., 0.],\n",
       "       [0., 1., 0., 0., 0.],\n",
       "       [0., 0., 1., 0., 0.],\n",
       "       [0., 0., 0., 1., 0.],\n",
       "       [0., 0., 0., 0., 1.]])"
      ]
     },
     "execution_count": 15,
     "metadata": {},
     "output_type": "execute_result"
    }
   ],
   "source": [
    "# diogonal identy matrx 0 to 1\n",
    "arre = np.eye(5)\n",
    "arre"
   ]
  },
  {
   "cell_type": "code",
   "execution_count": 17,
   "metadata": {},
   "outputs": [
    {
     "data": {
      "text/plain": [
       "array([[10, 10, 10, 10],\n",
       "       [10, 10, 10, 10],\n",
       "       [10, 10, 10, 10],\n",
       "       [10, 10, 10, 10]])"
      ]
     },
     "execution_count": 17,
     "metadata": {},
     "output_type": "execute_result"
    }
   ],
   "source": [
    "# full array\n",
    "arrf = np.full((4,4),10)\n",
    "arrf"
   ]
  },
  {
   "cell_type": "code",
   "execution_count": 20,
   "metadata": {},
   "outputs": [
    {
     "name": "stdout",
     "output_type": "stream",
     "text": [
      "[[5.94774968e-01 7.60336248e-01 2.13475683e-01 4.98787604e-01\n",
      "  6.51936045e-01]\n",
      " [8.50446465e-01 1.33244367e-01 2.48184473e-04 5.40605497e-01\n",
      "  3.42114646e-02]\n",
      " [7.46831256e-01 5.58788300e-03 9.52662826e-01 3.00322907e-01\n",
      "  9.95701879e-01]\n",
      " [5.84700729e-01 4.92242104e-01 5.63169667e-01 6.86287736e-01\n",
      "  5.45041175e-01]\n",
      " [6.07187123e-01 1.94429950e-02 9.99233612e-01 7.06026743e-02\n",
      "  9.22631715e-01]] >>>>>>>>> [[71.91117759 47.11745622  3.93340933 23.26803254 63.37516169]\n",
      " [33.62510286 20.58549964 48.74299369 51.15573062 75.80402085]\n",
      " [78.94016097 53.23629055 22.31263697 71.18638296 37.80293833]\n",
      " [75.80981791 66.37151562  1.02775339 68.96584099 32.66898761]\n",
      " [80.90952948 36.2901519  69.70607757 81.86376813 41.68174184]] >>>>>>>>>>>>>>>> [[1 0 5 8 1]\n",
      " [8 7 6 9 2]\n",
      " [1 8 4 6 7]\n",
      " [5 3 0 6 5]\n",
      " [2 4 2 9 3]]\n"
     ]
    }
   ],
   "source": [
    "# random array\n",
    "arrr = np.random.rand(5,5) #5*5 matrx float 0 to 1\n",
    "arrr1 = np.random.rand(5,5)*100 # 0 to 100\n",
    "arrri = np.random.randint(10,size=(5,5))\n",
    "print(arrr ,\">>>>>>>>>\" ,arrr1,\">>>>>>>>>>>>>>>>\",arrri)"
   ]
  },
  {
   "cell_type": "code",
   "execution_count": 24,
   "metadata": {},
   "outputs": [
    {
     "name": "stdout",
     "output_type": "stream",
     "text": [
      " eye(N, M=None, k=0, dtype=<class 'float'>, order='C')\n",
      "\n",
      "Return a 2-D array with ones on the diagonal and zeros elsewhere.\n",
      "\n",
      "Parameters\n",
      "----------\n",
      "N : int\n",
      "  Number of rows in the output.\n",
      "M : int, optional\n",
      "  Number of columns in the output. If None, defaults to `N`.\n",
      "k : int, optional\n",
      "  Index of the diagonal: 0 (the default) refers to the main diagonal,\n",
      "  a positive value refers to an upper diagonal, and a negative value\n",
      "  to a lower diagonal.\n",
      "dtype : data-type, optional\n",
      "  Data-type of the returned array.\n",
      "order : {'C', 'F'}, optional\n",
      "    Whether the output should be stored in row-major (C-style) or\n",
      "    column-major (Fortran-style) order in memory.\n",
      "\n",
      "    .. versionadded:: 1.14.0\n",
      "\n",
      "Returns\n",
      "-------\n",
      "I : ndarray of shape (N,M)\n",
      "  An array where all elements are equal to zero, except for the `k`-th\n",
      "  diagonal, whose values are equal to one.\n",
      "\n",
      "See Also\n",
      "--------\n",
      "identity : (almost) equivalent function\n",
      "diag : diagonal 2-D array from a 1-D array specified by the user.\n",
      "\n",
      "Examples\n",
      "--------\n",
      ">>> np.eye(2, dtype=int)\n",
      "array([[1, 0],\n",
      "       [0, 1]])\n",
      ">>> np.eye(3, k=1)\n",
      "array([[ 0.,  1.,  0.],\n",
      "       [ 0.,  0.,  1.],\n",
      "       [ 0.,  0.,  0.]])\n",
      "9 (3, 3) int32 [[1, 2, 3], [4, 5, 6], [7, 8, 9]] None\n"
     ]
    },
    {
     "data": {
      "text/plain": [
       "array([[1., 2., 3.],\n",
       "       [4., 5., 6.],\n",
       "       [7., 8., 9.]], dtype=float32)"
      ]
     },
     "execution_count": 24,
     "metadata": {},
     "output_type": "execute_result"
    }
   ],
   "source": [
    "# inspecting properties\n",
    "print(arr.size,\n",
    "      arr.shape,\n",
    "      arr.dtype,\n",
    "      arr.tolist(),\n",
    "      np.info(np.eye))\n",
    "arr.astype(dtype = np.float32)"
   ]
  },
  {
   "cell_type": "code",
   "execution_count": 36,
   "metadata": {},
   "outputs": [
    {
     "name": "stdout",
     "output_type": "stream",
     "text": [
      "[[1 2 3]\n",
      " [4 5 6]\n",
      " [7 8 9]] >>>> None >>>>>>> [[0.08915544 0.84906874]\n",
      " [0.61715791 0.78195949]] >>>>>>>> [0.08915544 0.84906874 0.61715791 0.78195949] >>>>>>>> [[0.08915544 0.61715791]\n",
      " [0.84906874 0.78195949]] >>>> [1 2 3 4 5 6 7 8 9] >>>>>> [[1 2 3]\n",
      " [4 5 6]\n",
      " [7 8 9]]\n"
     ]
    }
   ],
   "source": [
    "#copying ,sorting , reshapingabs\n",
    "ar1 = np.copy(arr)\n",
    "ar2 = arr.sort()\n",
    "ar3 = np.random.rand(2,2) #for flatten\n",
    "ar4 = ar3.flatten()\n",
    "ar5 = ar3.T # transpose\n",
    "ar6 = np.arange(1, 10) # for reshape\n",
    "ar7 = ar6.reshape(3,3)\n",
    "# ar8 = ar6.resize(5,5)\n",
    "print(ar1, \">>>>\", ar2,\">>>>>>>\", ar3,\">>>>>>>>\", ar4,\">>>>>>>>\", ar5,\">>>>\", ar6,\">>>>>>\", ar7)\n"
   ]
  },
  {
   "cell_type": "code",
   "execution_count": 40,
   "metadata": {},
   "outputs": [
    {
     "name": "stdout",
     "output_type": "stream",
     "text": [
      "[ 1  2  3  4  5  6  7  8  9 12] >>>>>>> [ 1  2  3  4  5 55  6  7  8  9]\n"
     ]
    }
   ],
   "source": [
    "# adding/ removing elements\n",
    "\n",
    "arra = np.arange(1,10) # for append\n",
    "arrap = np.append(arra, 12)\n",
    "arrin = np.insert(arra, 5, 55)\n",
    "print(arrap, \">>>>>>>\", arrin)\n",
    "\n",
    "arrnew = np.array([[1,2,3],[4,5,6], [7,8,9]])\n",
    "#arrd = np.delete(arrnew, 3, axis=0)\n",
    "#arrdc = np.delete(arrnew, 3, axis=1)"
   ]
  },
  {
   "cell_type": "code",
   "execution_count": 46,
   "metadata": {},
   "outputs": [
    {
     "name": "stdout",
     "output_type": "stream",
     "text": [
      "[[ 1  2  3]\n",
      " [ 4  5  6]\n",
      " [ 7  8  9]\n",
      " [10 20 30]\n",
      " [40 50 60]\n",
      " [70 80 90]]\n",
      "[[ 1  2  3 10 20 30]\n",
      " [ 4  5  6 40 50 60]\n",
      " [ 7  8  9 70 80 90]]\n"
     ]
    }
   ],
   "source": [
    "# combining \\ splitting\n",
    "\n",
    "arr10 = np.array([[1,2,3],[4,5,6], [7,8,9]])\n",
    "arr11 = np.array([[10,20,30],[40,50,60], [70,80,90]])\n",
    "arrcr = np.concatenate((arr10, arr11), axis=0)\n",
    "arrcc = np.concatenate((arr10, arr11), axis=1)\n",
    "print(arrcr)\n",
    "print(arrcc)"
   ]
  },
  {
   "cell_type": "code",
   "execution_count": 63,
   "metadata": {},
   "outputs": [
    {
     "name": "stdout",
     "output_type": "stream",
     "text": [
      "5\n",
      "[0 1 2 3 4]\n",
      "[ 8  3 11]\n",
      "[0 1 2]\n"
     ]
    }
   ],
   "source": [
    "# indexing \\ slicing\\ subsetting\n",
    "\n",
    "arrayy = np.arange(6)\n",
    "print(arrayy[5])\n",
    "print(arrayy[0:5])\n",
    "#print(arrayy[2]=3)\n",
    "\n",
    "arrayy1 = np.random.randint(12, size=(5,5))\n",
    "print(arrayy1[0:3,4])\n",
    "print(arrayy[:3])\n",
    "#print(arrayy[:,1])\n",
    "#arrayy1<5 # Returns an array with boolean values\n",
    "#(arrayy1<3) & (arr2>5) # Returns an array with boolean values\n",
    "#~arrayy1 # Inverts a boolean array\n",
    "#arrayy1[arrayy1<5] # Returns array elements smaller than 5"
   ]
  },
  {
   "cell_type": "code",
   "execution_count": 73,
   "metadata": {},
   "outputs": [
    {
     "name": "stdout",
     "output_type": "stream",
     "text": [
      "[0 1 2 3 4 5 6 7 8 9] >>>>>> [0 1 2 3 4 5 6 7 8 9]\n"
     ]
    },
    {
     "name": "stderr",
     "output_type": "stream",
     "text": [
      "C:\\Users\\USER\\Anaconda3\\envs\\intuitive-deep-learning\\lib\\site-packages\\ipykernel_launcher.py:9: RuntimeWarning: invalid value encountered in true_divide\n",
      "  if __name__ == '__main__':\n"
     ]
    },
    {
     "ename": "TypeError",
     "evalue": "'a_1' is an invalid keyword argument for print()",
     "output_type": "error",
     "traceback": [
      "\u001b[1;31m---------------------------------------------------------------------------\u001b[0m",
      "\u001b[1;31mTypeError\u001b[0m                                 Traceback (most recent call last)",
      "\u001b[1;32m<ipython-input-73-ec5adafe3560>\u001b[0m in \u001b[0;36m<module>\u001b[1;34m\u001b[0m\n\u001b[0;32m      7\u001b[0m \u001b[0ma_2\u001b[0m \u001b[1;33m=\u001b[0m \u001b[0mnp\u001b[0m\u001b[1;33m.\u001b[0m\u001b[0msubtract\u001b[0m\u001b[1;33m(\u001b[0m\u001b[0marrs\u001b[0m\u001b[1;33m,\u001b[0m \u001b[0marrs1\u001b[0m\u001b[1;33m)\u001b[0m\u001b[1;33m,\u001b[0m\u001b[1;33m\u001b[0m\u001b[1;33m\u001b[0m\u001b[0m\n\u001b[0;32m      8\u001b[0m \u001b[0ma_3\u001b[0m \u001b[1;33m=\u001b[0m \u001b[0mnp\u001b[0m\u001b[1;33m.\u001b[0m\u001b[0mmultiply\u001b[0m\u001b[1;33m(\u001b[0m\u001b[0marrs\u001b[0m\u001b[1;33m,\u001b[0m \u001b[0marrs1\u001b[0m\u001b[1;33m)\u001b[0m\u001b[1;33m,\u001b[0m \u001b[1;31m# Elementwise multiply arr1 by arr2\u001b[0m\u001b[1;33m\u001b[0m\u001b[1;33m\u001b[0m\u001b[0m\n\u001b[1;32m----> 9\u001b[1;33m \u001b[0ma_4\u001b[0m \u001b[1;33m=\u001b[0m \u001b[0mnp\u001b[0m\u001b[1;33m.\u001b[0m\u001b[0mdivide\u001b[0m\u001b[1;33m(\u001b[0m\u001b[0marrs\u001b[0m\u001b[1;33m,\u001b[0m \u001b[0marrs1\u001b[0m\u001b[1;33m)\u001b[0m\u001b[1;33m,\u001b[0m \u001b[1;31m# Elementwise divide arr1 by arr2\u001b[0m\u001b[1;33m\u001b[0m\u001b[1;33m\u001b[0m\u001b[0m\n\u001b[0m\u001b[0;32m     10\u001b[0m )   \n\u001b[0;32m     11\u001b[0m print(\n",
      "\u001b[1;31mTypeError\u001b[0m: 'a_1' is an invalid keyword argument for print()"
     ]
    }
   ],
   "source": [
    "# scalar math\n",
    "arrs = np.arange(0,10)\n",
    "arrs1 = np.arange(0,10)\n",
    "print(arrs,\">>>>>>\", arrs1)\n",
    "\n",
    "a_11 = np.add(arrs,1)\n",
    "a_12 = np.subtract(arrs,1)\n",
    "a_13 = np.multiply(arrs,2)\n",
    "a_14 = np.divide(arrs,3)\n",
    "a_15 = np.power(arrs,5)\n",
    "\n",
    "\n",
    "#vector math \n",
    "print(\n",
    "a_1 = np.add(arrs, arrs1),\n",
    "a_2 = np.subtract(arrs, arrs1),\n",
    "a_3 = np.multiply(arrs, arrs1), # Elementwise multiply arr1 by arr2\n",
    "a_4 = np.divide(arrs, arrs1), # Elementwise divide arr1 by arr2\n",
    ")   \n",
    "print(\n",
    "a_5 = np.power(arrs, arrs1), # Elementwise raise arr1 raised to the power of arr2\n",
    "a_6 = np.array_equal(arrs, arrs1), # Returns True if the arrays have the same elements and shape\n",
    "a_7 = np.sqrt(arrs) ,# Square root of each element in the array\n",
    "a_8 = np.sin(arrs), # Sine of each element in the array\n",
    "    \n",
    ")\n",
    "print(\n",
    "a_9 = np.log(arrs), # Natural log of each element in the array\n",
    "a_10 = np.abs(arrs) ,# Absolute value of each element in the array\n",
    "a_11 = np.ceil(arrs), # Rounds up to the nearest int\n",
    "a_12 = np.floor(arrs), # Rounds down to the nearest int\n",
    ")\n",
    "print(\n",
    "a_13 = np.round(arrs) ,# Rounds to the nearest int\n",
    ")"
   ]
  },
  {
   "cell_type": "code",
   "execution_count": 77,
   "metadata": {},
   "outputs": [
    {
     "name": "stdout",
     "output_type": "stream",
     "text": [
      "[ 1  2  3  4  5  6  7  8  9 10 11 12 13 14 15 16 17 18 19 20 21]\n",
      "11.0 231 36.666666666666664 6.0553007081949835\n",
      "1 21\n"
     ]
    }
   ],
   "source": [
    "#statistics\n",
    "\n",
    "arrlast = np.arange(1,22)\n",
    "print(arrlast)\n",
    "\n",
    "stm = np.mean(arrlast)\n",
    "sts = np.sum(arrlast)\n",
    "stv = np.var(arrlast)\n",
    "stsd = np.std(arrlast)\n",
    "#stco = arrlast.corrcoef()\n",
    "stmi = np.min(arrlast)\n",
    "stma = np.max(arrlast)\n",
    "print(stm , sts, stv, stsd)\n",
    "\n",
    "print(stmi, stma)"
   ]
  },
  {
   "cell_type": "code",
   "execution_count": null,
   "metadata": {},
   "outputs": [],
   "source": [
    "\"\"\" ENDDDDDDDDDDDDDDDDDDDDDDDDDDDDDDDDD\"\"\""
   ]
  }
 ],
 "metadata": {
  "kernelspec": {
   "display_name": "Python 3",
   "language": "python",
   "name": "python3"
  },
  "language_info": {
   "codemirror_mode": {
    "name": "ipython",
    "version": 3
   },
   "file_extension": ".py",
   "mimetype": "text/x-python",
   "name": "python",
   "nbconvert_exporter": "python",
   "pygments_lexer": "ipython3",
   "version": "3.7.3"
  }
 },
 "nbformat": 4,
 "nbformat_minor": 2
}
